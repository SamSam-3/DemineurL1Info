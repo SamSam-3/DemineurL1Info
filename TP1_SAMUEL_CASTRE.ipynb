{
 "cells": [
  {
   "cell_type": "markdown",
   "metadata": {},
   "source": [
    "Puissance 4\n",
    "---"
   ]
  },
  {
   "cell_type": "code",
   "execution_count": 58,
   "metadata": {
    "collapsed": false
   },
   "outputs": [],
   "source": [
    "from tkinter import *\n",
    "\n",
    "root=Tk()\n",
    "can=Canvas(root, width=500, height=500, background=\"white\")\n",
    "can.pack()\n",
    "\n",
    "A=(0,460)\n",
    "B=(499,499)\n",
    "can.create_rectangle(A,B, fill=\"blue\")\n",
    "\n",
    "X=(40,40)\n",
    "Y=(460,460)\n",
    "can.create_rectangle(X,Y, fill=\"blue\")\n",
    "\n",
    "x=60\n",
    "y=60\n",
    "for n in range(7):\n",
    "    for p in range(6):\n",
    "            can.create_oval((x,y),(x+40, y+40), fill=\"white\")\n",
    "            if (p==2 and n==4) or (p==2 and n==6):\n",
    "                can.create_oval((x,y),(x+40, y+40), fill=\"red\")\n",
    "                \n",
    "            if (p==2 and n==5) or (p==3 and n==6):\n",
    "                can.create_oval((x,y),(x+40, y+40), fill=\"yellow\")\n",
    "            x=x+70\n",
    "    y=y+57\n",
    "    x=60\n",
    "    \n",
    "root.mainloop()"
   ]
  },
  {
   "cell_type": "markdown",
   "metadata": {},
   "source": [
    "Forêt\n",
    "---"
   ]
  },
  {
   "cell_type": "code",
   "execution_count": 93,
   "metadata": {
    "collapsed": false
   },
   "outputs": [],
   "source": [
    "from tkinter import *\n",
    "from random import *\n",
    "\n",
    "root=Tk()\n",
    "can=Canvas(root, width=500, height=500, background=\"white\")\n",
    "can.pack(side=\"left\")\n",
    "\n",
    "\n",
    "#100% = 2500\n",
    "#10% = 250\n",
    "def setArbre(n):\n",
    "    n=int(n)\n",
    "    s=(n*2500)//100\n",
    "    for i in range(s):\n",
    "        x=randint(0,499)\n",
    "        y=randint(0,499)\n",
    "        \n",
    "        can.create_rectangle((x,y),(x+10,y+10), fill=\"green\", outline=\"\")\n",
    "        \n",
    "\n",
    "curseur = Scale(root, orient=\"vertical\",command=setArbre, from_=0, to=100)\n",
    "curseur.pack(side=\"left\")\n",
    "root.mainloop()"
   ]
  },
  {
   "cell_type": "markdown",
   "metadata": {},
   "source": [
    "Taquin\n",
    "---"
   ]
  },
  {
   "cell_type": "code",
   "execution_count": null,
   "metadata": {
    "collapsed": true
   },
   "outputs": [],
   "source": [
    "from tkinter import *\n",
    "from random import *\n",
    "\n",
    "root=Tk()\n",
    "can=Canvas(root, width=400, height=400, background=\"white\")\n",
    "can.pack(side=\"left\")\n",
    "\n",
    "for n in range(4):\n",
    "    for p in range(4):\n",
    "        can.create_rectangle((x,y),(x+100,y+100), fill=\"RoyalBlue1\")\n",
    "        x=x+100\n",
    "    y=y+100    \n",
    "        \n",
    "root.mainloop()"
   ]
  }
 ],
 "metadata": {
  "kernelspec": {
   "display_name": "Python 3",
   "language": "python",
   "name": "python3"
  },
  "language_info": {
   "codemirror_mode": {
    "name": "ipython",
    "version": 3
   },
   "file_extension": ".py",
   "mimetype": "text/x-python",
   "name": "python",
   "nbconvert_exporter": "python",
   "pygments_lexer": "ipython3",
   "version": "3.5.3"
  }
 },
 "nbformat": 4,
 "nbformat_minor": 2
}
